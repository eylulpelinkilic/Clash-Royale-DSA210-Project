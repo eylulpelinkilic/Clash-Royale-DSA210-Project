{
  "nbformat": 4,
  "nbformat_minor": 0,
  "metadata": {
    "colab": {
      "provenance": [],
      "authorship_tag": "ABX9TyOwbAHYBqvzpLp2rURYVLft",
      "include_colab_link": true
    },
    "kernelspec": {
      "name": "python3",
      "display_name": "Python 3"
    },
    "language_info": {
      "name": "python"
    }
  },
  "cells": [
    {
      "cell_type": "markdown",
      "metadata": {
        "id": "view-in-github",
        "colab_type": "text"
      },
      "source": [
        "<a href=\"https://colab.research.google.com/github/eylulpelinkilic/Clash-Royale-DSA210-Project/blob/main/Hypothesis_Testing.ipynb\" target=\"_parent\"><img src=\"https://colab.research.google.com/assets/colab-badge.svg\" alt=\"Open In Colab\"/></a>"
      ]
    },
    {
      "cell_type": "markdown",
      "source": [
        "Test 1:\n",
        "\n",
        "H0 (Null Hypothesis): Deck composition has no significant impact on match outcomes.\n",
        "\n",
        "H1 (Alternative Hypothesis): Certain deck compositions significantly increase the probability of winning."
      ],
      "metadata": {
        "id": "a0CuAgeGTr6-"
      }
    },
    {
      "cell_type": "code",
      "execution_count": 1,
      "metadata": {
        "colab": {
          "base_uri": "https://localhost:8080/"
        },
        "id": "OghYDrj_TkVV",
        "outputId": "18a7744d-1bc0-41fd-af14-7fc72df58a9f"
      },
      "outputs": [
        {
          "output_type": "stream",
          "name": "stdout",
          "text": [
            "Contingency Table (Deck vs Win):\n",
            "win                                                 False  True \n",
            "deckGroup                                                       \n",
            "Bats,Mortar,Arrows,Boss Bandit,Cannon Cart,Ice ...      2      0\n",
            "Goblin Barrel,Royal Recruits,Tesla,Dart Goblin,...      2      1\n",
            "Goblin Barrel,Valkyrie,Dart Goblin,Goblin Gang,...      9     11\n",
            "Hunter,Barbarians,Wizard,Bats,Witch,Miner,Skele...      1      1\n",
            "Hunter,Barbarians,Wizard,Dart Goblin,Bats,Miner...     12     14\n",
            "Hunter,Valkyrie,Skeleton King,Arrows,Firecracke...     10      9\n",
            "Hunter,Valkyrie,Skeleton King,Arrows,Goblin Gan...      3      2\n",
            "Hunter,Valkyrie,Skeleton King,Arrows,Ice Wizard...      1      2\n",
            "Mega Knight,Witch,Electro Giant,P.E.K.K.A,Wizar...      5      5\n",
            "Valkyrie,Hog Rider,Firecracker,Boss Bandit,Bats...     14     16\n",
            "other                                                   8      4\n",
            "\n",
            "Chi-Square Statistic: 4.7106\n",
            "Degrees of Freedom: 10\n",
            "P-Value: 0.9097\n",
            "\n",
            "Conclusion: No significant effect of deck composition on match outcome was found. (Fail to reject H0)\n"
          ]
        }
      ],
      "source": [
        "import pandas as pd\n",
        "from scipy.stats import chi2_contingency\n",
        "\n",
        "# Load the match data\n",
        "matches = pd.read_excel(\"matches.xlsx\")\n",
        "\n",
        "# Count the most common 10 decks (by exact string)\n",
        "top_decks = matches['playerDeck'].value_counts().head(10)\n",
        "\n",
        "# Label each deck as one of the top 10 or 'other'\n",
        "def label_deck(deck_str):\n",
        "    return deck_str if deck_str in top_decks.index else 'other'\n",
        "\n",
        "matches['deckGroup'] = matches['playerDeck'].apply(label_deck)\n",
        "\n",
        "# Create a contingency table: deckGroup vs match outcome (win/loss)\n",
        "contingency_table = pd.crosstab(matches['deckGroup'], matches['win'])\n",
        "\n",
        "# Perform the Chi-Square test\n",
        "chi2_stat, p_value, dof, expected = chi2_contingency(contingency_table)\n",
        "\n",
        "# Show results\n",
        "print(\"Contingency Table (Deck vs Win):\")\n",
        "print(contingency_table)\n",
        "print(f\"\\nChi-Square Statistic: {chi2_stat:.4f}\")\n",
        "print(f\"Degrees of Freedom: {dof}\")\n",
        "print(f\"P-Value: {p_value:.4f}\")\n",
        "\n",
        "# Hypothesis test result\n",
        "alpha = 0.05\n",
        "if p_value < alpha:\n",
        "    print(\"\\nConclusion: Deck composition has a statistically significant effect on match outcome. (Reject H0)\")\n",
        "else:\n",
        "    print(\"\\nConclusion: No significant effect of deck composition on match outcome was found. (Fail to reject H0)\")\n"
      ]
    },
    {
      "cell_type": "markdown",
      "source": [
        "Test 2:\n",
        "\n",
        "H0 (Null Hypothesis): Average elixir cost does not affect match performance.\n",
        "\n",
        "H1 (Alternative Hypothesis): Extremely high or low elixir costs impact match performance significantly."
      ],
      "metadata": {
        "id": "QRugbqzIUeCh"
      }
    },
    {
      "cell_type": "code",
      "source": [
        "import pandas as pd\n",
        "from scipy.stats import ttest_ind, shapiro\n",
        "\n",
        "# Load your data\n",
        "matches = pd.read_excel(\"matches.xlsx\")\n",
        "\n",
        "# Separate the average elixir costs by match outcome\n",
        "wins = matches[matches['win'] == True]['playerAvgElixir']\n",
        "losses = matches[matches['win'] == False]['playerAvgElixir']\n",
        "\n",
        "# Step 1: Check normality using Shapiro-Wilk test\n",
        "shapiro_win_p = shapiro(wins).pvalue\n",
        "shapiro_loss_p = shapiro(losses).pvalue\n",
        "\n",
        "print(\"Shapiro-Wilk p-value (Win group):\", shapiro_win_p)\n",
        "print(\"Shapiro-Wilk p-value (Loss group):\", shapiro_loss_p)\n",
        "\n",
        "# Step 2: Perform Welch's t-test (assumes unequal variance)\n",
        "t_stat, p_value = ttest_ind(wins, losses, equal_var=False)\n",
        "\n",
        "# Step 3: Show results\n",
        "print(\"\\nAverage elixir cost (wins):\", round(wins.mean(), 3))\n",
        "print(\"Average elixir cost (losses):\", round(losses.mean(), 3))\n",
        "print(\"T-statistic:\", round(t_stat, 4))\n",
        "print(\"P-value:\", round(p_value, 4))\n",
        "\n",
        "# Interpretation\n",
        "alpha = 0.05\n",
        "if p_value < alpha:\n",
        "    print(\"\\nConclusion: The difference in average elixir cost is statistically significant (Reject H0).\")\n",
        "else:\n",
        "    print(\"\\nConclusion: No statistically significant difference in elixir cost between win/loss (Fail to reject H0).\")\n"
      ],
      "metadata": {
        "colab": {
          "base_uri": "https://localhost:8080/"
        },
        "id": "SFF82jZYUiG9",
        "outputId": "22ce44b3-5655-40d2-90ae-316f776cd3ea"
      },
      "execution_count": 2,
      "outputs": [
        {
          "output_type": "stream",
          "name": "stdout",
          "text": [
            "Shapiro-Wilk p-value (Win group): 7.921260728095923e-09\n",
            "Shapiro-Wilk p-value (Loss group): 4.68307206338889e-09\n",
            "\n",
            "Average elixir cost (wins): 3.951\n",
            "Average elixir cost (losses): 3.968\n",
            "T-statistic: -0.1951\n",
            "P-value: 0.8456\n",
            "\n",
            "Conclusion: No statistically significant difference in elixir cost between win/loss (Fail to reject H0).\n"
          ]
        }
      ]
    },
    {
      "cell_type": "markdown",
      "source": [
        "Test 3:\n",
        "\n",
        "H0 (Null Hypothesis): The difference between the player's elixir cost and the opponent's elixir cost does not affect the match outcome.\n",
        "\n",
        "H1 (Alternative Hypothesis): The elixir cost difference (higher/lower) significantly affects the probability of winning."
      ],
      "metadata": {
        "id": "7Nm7lCkjUp7u"
      }
    },
    {
      "cell_type": "code",
      "source": [
        "import pandas as pd\n",
        "from scipy.stats import ttest_ind\n",
        "\n",
        "# Load your dataset\n",
        "df = pd.read_excel(\"matches.xlsx\")\n",
        "\n",
        "# Compute the elixir difference between player and opponent\n",
        "df[\"elixir_diff\"] = df[\"playerAvgElixir\"] - df[\"opponentAvgElixir\"]\n",
        "\n",
        "# Split the dataset into wins and losses\n",
        "won = df[df[\"win\"] == True][\"elixir_diff\"]\n",
        "lost = df[df[\"win\"] == False][\"elixir_diff\"]\n",
        "\n",
        "# Perform an independent two-sample t-test\n",
        "t_stat, p_value = ttest_ind(won, lost, equal_var=False)\n",
        "\n",
        "# Print the results\n",
        "print(\"Elixir Cost Difference Hypothesis Test\")\n",
        "print(\"---------------------------------------\")\n",
        "print(f\"t-statistic: {t_stat:.4f}\")\n",
        "print(f\"p-value: {p_value:.4f}\")\n",
        "print(f\"Mean Elixir Diff (Win): {won.mean():.3f}\")\n",
        "print(f\"Mean Elixir Diff (Loss): {lost.mean():.3f}\")\n",
        "\n",
        "# Interpretation\n",
        "if p_value < 0.05:\n",
        "    print(\"\\nResult: Reject H0 — elixir difference significantly affects match outcomes.\")\n",
        "else:\n",
        "    print(\"\\nResult: Fail to reject H0 — no significant effect of elixir difference on outcome.\")\n"
      ],
      "metadata": {
        "colab": {
          "base_uri": "https://localhost:8080/"
        },
        "id": "TtBJ8bLXUqyr",
        "outputId": "18bba8a2-44f1-4ce8-83f1-20f3dec5b3e3"
      },
      "execution_count": 3,
      "outputs": [
        {
          "output_type": "stream",
          "name": "stdout",
          "text": [
            "Elixir Cost Difference Hypothesis Test\n",
            "---------------------------------------\n",
            "t-statistic: 1.0347\n",
            "p-value: 0.3028\n",
            "Mean Elixir Diff (Win): 0.434\n",
            "Mean Elixir Diff (Loss): 0.320\n",
            "\n",
            "Result: Fail to reject H0 — no significant effect of elixir difference on outcome.\n"
          ]
        }
      ]
    },
    {
      "cell_type": "markdown",
      "source": [
        "Test 4:\n",
        "\n",
        "H0 (Null Hypothesis): The number of shared cards between the player and opponent has no effect on the match outcome.\n",
        "\n",
        "H1 (Alternative Hypothesis): Sharing more cards with the opponent significantly affects the probability of winning."
      ],
      "metadata": {
        "id": "3DwCQifkU1I6"
      }
    },
    {
      "cell_type": "code",
      "source": [
        "import pandas as pd\n",
        "from scipy.stats import ttest_ind\n",
        "\n",
        "# Load the dataset\n",
        "df = pd.read_excel(\"matches.xlsx\")\n",
        "\n",
        "# Split decks into sets of card names\n",
        "df[\"playerCards\"] = df[\"playerDeck\"].str.split(\",\")\n",
        "df[\"opponentCards\"] = df[\"opponentDeck\"].str.split(\",\")\n",
        "\n",
        "# Count how many cards are shared between player and opponent\n",
        "def count_common(row):\n",
        "    return len(set(row[\"playerCards\"]) & set(row[\"opponentCards\"]))\n",
        "\n",
        "df[\"common_cards\"] = df.apply(count_common, axis=1)\n",
        "\n",
        "# Split by win/loss and run t-test\n",
        "win_common = df[df[\"win\"] == True][\"common_cards\"]\n",
        "loss_common = df[df[\"win\"] == False][\"common_cards\"]\n",
        "\n",
        "t_stat, p_val = ttest_ind(win_common, loss_common, equal_var=False)\n",
        "\n",
        "# Print results\n",
        "print(\"Hypothesis Test: Number of Shared Cards\")\n",
        "print(f\"t-statistic: {t_stat:.4f}\")\n",
        "print(f\"p-value: {p_val:.4f}\")\n",
        "print(f\"Mean Shared Cards (Win): {win_common.mean():.3f}\")\n",
        "print(f\"Mean Shared Cards (Loss): {loss_common.mean():.3f}\")\n",
        "\n",
        "if p_val < 0.05:\n",
        "    print(\"Result: Reject H0 — Shared cards significantly affect outcome.\")\n",
        "else:\n",
        "    print(\"Result: Fail to reject H0 — No significant effect of shared cards.\")\n"
      ],
      "metadata": {
        "colab": {
          "base_uri": "https://localhost:8080/"
        },
        "id": "j5MF4UGaU_Ih",
        "outputId": "6b9f9abe-9250-45db-a907-d4d9e9857a5b"
      },
      "execution_count": 11,
      "outputs": [
        {
          "output_type": "stream",
          "name": "stdout",
          "text": [
            "Hypothesis Test: Number of Shared Cards\n",
            "t-statistic: -2.5736\n",
            "p-value: 0.0112\n",
            "Mean Shared Cards (Win): 0.877\n",
            "Mean Shared Cards (Loss): 1.433\n",
            "Result: Reject H0 — Shared cards significantly affect outcome.\n"
          ]
        }
      ]
    },
    {
      "cell_type": "markdown",
      "source": [
        "Test 5:\n",
        "\n",
        "H0 (Null Hypothesis): The opponent’s average elixir cost has no impact on the match result.\n",
        "\n",
        "H1 (Alternative Hypothesis): If the opponent has a lower average elixir cost, it significantly increases the chance of winning."
      ],
      "metadata": {
        "id": "sRTjnQJYVGZF"
      }
    },
    {
      "cell_type": "code",
      "source": [
        "import pandas as pd\n",
        "from scipy.stats import ttest_ind\n",
        "\n",
        "# Load your dataset\n",
        "df = pd.read_excel(\"matches.xlsx\")\n",
        "\n",
        "# Split into two groups: win vs. loss\n",
        "win_elixir = df[df[\"win\"] == True][\"opponentAvgElixir\"]\n",
        "loss_elixir = df[df[\"win\"] == False][\"opponentAvgElixir\"]\n",
        "\n",
        "# Run independent two-sample t-test\n",
        "t_stat, p_val = ttest_ind(win_elixir, loss_elixir, equal_var=False)\n",
        "\n",
        "# Print results\n",
        "print(\"Hypothesis Test: Opponent's Average Elixir Cost\")\n",
        "print(f\"t-statistic: {t_stat:.4f}\")\n",
        "print(f\"p-value: {p_val:.4f}\")\n",
        "print(f\"Mean Opponent Elixir (Win): {win_elixir.mean():.3f}\")\n",
        "print(f\"Mean Opponent Elixir (Loss): {loss_elixir.mean():.3f}\")\n",
        "\n",
        "if p_val < 0.05:\n",
        "    print(\"Result: Reject H0 — Opponent elixir cost significantly affects win rate.\")\n",
        "else:\n",
        "    print(\"Result: Fail to reject H0 — No significant effect detected.\")\n"
      ],
      "metadata": {
        "colab": {
          "base_uri": "https://localhost:8080/"
        },
        "id": "hcZgao1xVTgo",
        "outputId": "7bce4335-839b-4696-91cc-4512e7c096d0"
      },
      "execution_count": 10,
      "outputs": [
        {
          "output_type": "stream",
          "name": "stdout",
          "text": [
            "Hypothesis Test: Opponent's Average Elixir Cost\n",
            "t-statistic: -1.4647\n",
            "p-value: 0.1455\n",
            "Mean Opponent Elixir (Win): 3.517\n",
            "Mean Opponent Elixir (Loss): 3.647\n",
            "Result: Fail to reject H0 — No significant effect detected.\n"
          ]
        }
      ]
    }
  ]
}