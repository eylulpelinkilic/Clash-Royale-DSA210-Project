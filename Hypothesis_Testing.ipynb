{
  "nbformat": 4,
  "nbformat_minor": 0,
  "metadata": {
    "colab": {
      "provenance": [],
      "authorship_tag": "ABX9TyMjB29JD6GsaObFZuvgbpJk",
      "include_colab_link": true
    },
    "kernelspec": {
      "name": "python3",
      "display_name": "Python 3"
    },
    "language_info": {
      "name": "python"
    }
  },
  "cells": [
    {
      "cell_type": "markdown",
      "metadata": {
        "id": "view-in-github",
        "colab_type": "text"
      },
      "source": [
        "<a href=\"https://colab.research.google.com/github/eylulpelinkilic/Clash-Royale-DSA210-Project/blob/main/Hypothesis_Testing.ipynb\" target=\"_parent\"><img src=\"https://colab.research.google.com/assets/colab-badge.svg\" alt=\"Open In Colab\"/></a>"
      ]
    },
    {
      "cell_type": "markdown",
      "source": [
        "Test 1:\n",
        "\n",
        "H0 (Null Hypothesis): Deck composition has no significant impact on match outcomes.\n",
        "\n",
        "H1 (Alternative Hypothesis): Certain deck compositions significantly increase the probability of winning."
      ],
      "metadata": {
        "id": "a0CuAgeGTr6-"
      }
    },
    {
      "cell_type": "code",
      "execution_count": 1,
      "metadata": {
        "colab": {
          "base_uri": "https://localhost:8080/"
        },
        "id": "OghYDrj_TkVV",
        "outputId": "18a7744d-1bc0-41fd-af14-7fc72df58a9f"
      },
      "outputs": [
        {
          "output_type": "stream",
          "name": "stdout",
          "text": [
            "Contingency Table (Deck vs Win):\n",
            "win                                                 False  True \n",
            "deckGroup                                                       \n",
            "Bats,Mortar,Arrows,Boss Bandit,Cannon Cart,Ice ...      2      0\n",
            "Goblin Barrel,Royal Recruits,Tesla,Dart Goblin,...      2      1\n",
            "Goblin Barrel,Valkyrie,Dart Goblin,Goblin Gang,...      9     11\n",
            "Hunter,Barbarians,Wizard,Bats,Witch,Miner,Skele...      1      1\n",
            "Hunter,Barbarians,Wizard,Dart Goblin,Bats,Miner...     12     14\n",
            "Hunter,Valkyrie,Skeleton King,Arrows,Firecracke...     10      9\n",
            "Hunter,Valkyrie,Skeleton King,Arrows,Goblin Gan...      3      2\n",
            "Hunter,Valkyrie,Skeleton King,Arrows,Ice Wizard...      1      2\n",
            "Mega Knight,Witch,Electro Giant,P.E.K.K.A,Wizar...      5      5\n",
            "Valkyrie,Hog Rider,Firecracker,Boss Bandit,Bats...     14     16\n",
            "other                                                   8      4\n",
            "\n",
            "Chi-Square Statistic: 4.7106\n",
            "Degrees of Freedom: 10\n",
            "P-Value: 0.9097\n",
            "\n",
            "Conclusion: No significant effect of deck composition on match outcome was found. (Fail to reject H0)\n"
          ]
        }
      ],
      "source": [
        "import pandas as pd\n",
        "from scipy.stats import chi2_contingency\n",
        "\n",
        "#load the match data\n",
        "matches = pd.read_excel(\"matches.xlsx\")\n",
        "\n",
        "#count the most common 10 decks\n",
        "top_decks = matches['playerDeck'].value_counts().head(10)\n",
        "\n",
        "#label each deck as one of the top 10 or 'other'\n",
        "def label_deck(deck_str):\n",
        "    return deck_str if deck_str in top_decks.index else 'other'\n",
        "\n",
        "matches['deckGroup'] = matches['playerDeck'].apply(label_deck)\n",
        "\n",
        "#create a contingency table: deckGroup vs match outcome (win/loss)\n",
        "contingency_table = pd.crosstab(matches['deckGroup'], matches['win'])\n",
        "\n",
        "#chi-square test\n",
        "chi2_stat, p_value, dof, expected = chi2_contingency(contingency_table)\n",
        "\n",
        "#show results\n",
        "print(\"Contingency Table (Deck vs Win):\")\n",
        "print(contingency_table)\n",
        "print(f\"\\nChi-Square Statistic: {chi2_stat:.4f}\")\n",
        "print(f\"Degrees of Freedom: {dof}\")\n",
        "print(f\"P-Value: {p_value:.4f}\")\n",
        "\n",
        "#hypothesis test result\n",
        "alpha = 0.05\n",
        "if p_value < alpha:\n",
        "    print(\"\\nConclusion: Deck composition has a statistically significant effect on match outcome. (Reject H0)\")\n",
        "else:\n",
        "    print(\"\\nConclusion: No significant effect of deck composition on match outcome was found. (Fail to reject H0)\")\n"
      ]
    },
    {
      "cell_type": "markdown",
      "source": [
        "Test 2:\n",
        "\n",
        "H0 (Null Hypothesis): Average elixir cost does not affect match performance.\n",
        "\n",
        "H1 (Alternative Hypothesis): Extremely high or low elixir costs impact match performance significantly."
      ],
      "metadata": {
        "id": "QRugbqzIUeCh"
      }
    },
    {
      "cell_type": "code",
      "source": [
        "import pandas as pd\n",
        "from scipy.stats import ttest_ind\n",
        "\n",
        "#load the match data\n",
        "df = pd.read_excel(\"matches.xlsx\")\n",
        "\n",
        "#create groups based on player average elixir\n",
        "median_elixir = df[\"playerAvgElixir\"].median()\n",
        "\n",
        "#convert boolean to integers\n",
        "low_elixir_group = low_elixir_group.astype(int)\n",
        "high_elixir_group = high_elixir_group.astype(int)\n",
        "\n",
        "#t-test\n",
        "t_stat, p_value = ttest_ind(low_elixir_group, high_elixir_group)\n",
        "\n",
        "print(f\"\\nT-statistic: {t_stat:.4f}\")\n",
        "print(f\"P-value: {p_value:.4f}\")\n",
        "\n",
        "#interpretation\n",
        "if p_value < 0.05:\n",
        "    print(\"Reject H0: Average elixir cost significantly affects match performance.\")\n",
        "else:\n",
        "    print(\"Fail to reject H0: No significant effect of elixir cost on match performance.\")"
      ],
      "metadata": {
        "colab": {
          "base_uri": "https://localhost:8080/"
        },
        "id": "6OMDb1SSgBfL",
        "outputId": "15bf5691-1a02-41eb-d2d6-dc0cc276eb18"
      },
      "execution_count": 16,
      "outputs": [
        {
          "output_type": "stream",
          "name": "stdout",
          "text": [
            "\n",
            "T-statistic: -0.1170\n",
            "P-value: 0.9071\n",
            "Fail to reject H0: No significant effect of elixir cost on match performance.\n"
          ]
        }
      ]
    },
    {
      "cell_type": "markdown",
      "source": [
        "Test 3:\n",
        "\n",
        "H0 (Null Hypothesis): The difference between the player's elixir cost and the opponent's elixir cost does not affect the match outcome.\n",
        "\n",
        "H1 (Alternative Hypothesis): The elixir cost difference (higher/lower) significantly affects the probability of winning."
      ],
      "metadata": {
        "id": "7Nm7lCkjUp7u"
      }
    },
    {
      "cell_type": "code",
      "source": [
        "import pandas as pd\n",
        "from scipy.stats import ttest_ind\n",
        "\n",
        "#load the match data\n",
        "df = pd.read_excel(\"matches.xlsx\")\n",
        "\n",
        "#compute the elixir difference between player and opponent\n",
        "df[\"elixir_diff\"] = df[\"playerAvgElixir\"] - df[\"opponentAvgElixir\"]\n",
        "\n",
        "#split the dataset into wins and losses\n",
        "won = df[df[\"win\"] == True][\"elixir_diff\"]\n",
        "lost = df[df[\"win\"] == False][\"elixir_diff\"]\n",
        "\n",
        "#perform an independent two-sample t-test\n",
        "t_stat, p_value = ttest_ind(won, lost, equal_var=False)\n",
        "\n",
        "#print the results\n",
        "print(\"Elixir Cost Difference Hypothesis Test\")\n",
        "print(\"---------------------------------------\")\n",
        "print(f\"t-statistic: {t_stat:.4f}\")\n",
        "print(f\"p-value: {p_value:.4f}\")\n",
        "print(f\"Mean Elixir Diff (Win): {won.mean():.3f}\")\n",
        "print(f\"Mean Elixir Diff (Loss): {lost.mean():.3f}\")\n",
        "\n",
        "#interpretation\n",
        "if p_value < 0.05:\n",
        "    print(\"\\nResult: Reject H0 — elixir difference significantly affects match outcomes.\")\n",
        "else:\n",
        "    print(\"\\nResult: Fail to reject H0 — no significant effect of elixir difference on outcome.\")\n"
      ],
      "metadata": {
        "colab": {
          "base_uri": "https://localhost:8080/"
        },
        "id": "TtBJ8bLXUqyr",
        "outputId": "43adbc50-b794-4e15-d576-0bf7f3ecb79e"
      },
      "execution_count": 14,
      "outputs": [
        {
          "output_type": "stream",
          "name": "stdout",
          "text": [
            "Elixir Cost Difference Hypothesis Test\n",
            "---------------------------------------\n",
            "t-statistic: 1.0347\n",
            "p-value: 0.3028\n",
            "Mean Elixir Diff (Win): 0.434\n",
            "Mean Elixir Diff (Loss): 0.320\n",
            "\n",
            "Result: Fail to reject H0 — no significant effect of elixir difference on outcome.\n"
          ]
        }
      ]
    },
    {
      "cell_type": "markdown",
      "source": [
        "Test 4:\n",
        "\n",
        "H0 (Null Hypothesis): The number of shared cards between the player and opponent has no effect on the match outcome.\n",
        "\n",
        "H1 (Alternative Hypothesis): Sharing more cards with the opponent significantly affects the probability of winning."
      ],
      "metadata": {
        "id": "3DwCQifkU1I6"
      }
    },
    {
      "cell_type": "code",
      "source": [
        "import pandas as pd\n",
        "from scipy.stats import ttest_ind\n",
        "\n",
        "#load the match data\n",
        "df = pd.read_excel(\"matches.xlsx\")\n",
        "\n",
        "#split decks into sets of card names\n",
        "df[\"playerCards\"] = df[\"playerDeck\"].str.split(\",\")\n",
        "df[\"opponentCards\"] = df[\"opponentDeck\"].str.split(\",\")\n",
        "\n",
        "#count how many cards are shared between player and opponent\n",
        "def count_common(row):\n",
        "    return len(set(row[\"playerCards\"]) & set(row[\"opponentCards\"]))\n",
        "\n",
        "df[\"common_cards\"] = df.apply(count_common, axis=1)\n",
        "\n",
        "#split by win/loss and run t-test\n",
        "win_common = df[df[\"win\"] == True][\"common_cards\"]\n",
        "loss_common = df[df[\"win\"] == False][\"common_cards\"]\n",
        "\n",
        "t_stat, p_val = ttest_ind(win_common, loss_common, equal_var=False)\n",
        "\n",
        "#print results\n",
        "print(\"Hypothesis Test: Number of Shared Cards\")\n",
        "print(f\"t-statistic: {t_stat:.4f}\")\n",
        "print(f\"p-value: {p_val:.4f}\")\n",
        "print(f\"Mean Shared Cards (Win): {win_common.mean():.3f}\")\n",
        "print(f\"Mean Shared Cards (Loss): {loss_common.mean():.3f}\")\n",
        "\n",
        "if p_val < 0.05:\n",
        "    print(\"Result: Reject H0 — Shared cards significantly affect outcome.\")\n",
        "else:\n",
        "    print(\"Result: Fail to reject H0 — No significant effect of shared cards.\")\n"
      ],
      "metadata": {
        "colab": {
          "base_uri": "https://localhost:8080/"
        },
        "id": "j5MF4UGaU_Ih",
        "outputId": "6b9f9abe-9250-45db-a907-d4d9e9857a5b"
      },
      "execution_count": 11,
      "outputs": [
        {
          "output_type": "stream",
          "name": "stdout",
          "text": [
            "Hypothesis Test: Number of Shared Cards\n",
            "t-statistic: -2.5736\n",
            "p-value: 0.0112\n",
            "Mean Shared Cards (Win): 0.877\n",
            "Mean Shared Cards (Loss): 1.433\n",
            "Result: Reject H0 — Shared cards significantly affect outcome.\n"
          ]
        }
      ]
    },
    {
      "cell_type": "markdown",
      "source": [
        "Test 5:\n",
        "\n",
        "H0 (Null Hypothesis): The opponent’s average elixir cost has no impact on the match result.\n",
        "\n",
        "H1 (Alternative Hypothesis): If the opponent has a lower average elixir cost, it significantly increases the chance of winning."
      ],
      "metadata": {
        "id": "sRTjnQJYVGZF"
      }
    },
    {
      "cell_type": "code",
      "source": [
        "import pandas as pd\n",
        "from scipy.stats import ttest_ind\n",
        "\n",
        "#load the match data\n",
        "df = pd.read_excel(\"matches.xlsx\")\n",
        "\n",
        "#split into two groups: win vs. loss\n",
        "win_elixir = df[df[\"win\"] == True][\"opponentAvgElixir\"]\n",
        "loss_elixir = df[df[\"win\"] == False][\"opponentAvgElixir\"]\n",
        "\n",
        "#run independent two-sample t-test\n",
        "t_stat, p_val = ttest_ind(win_elixir, loss_elixir, equal_var=False)\n",
        "\n",
        "#print results\n",
        "print(\"Hypothesis Test: Opponent's Average Elixir Cost\")\n",
        "print(f\"t-statistic: {t_stat:.4f}\")\n",
        "print(f\"p-value: {p_val:.4f}\")\n",
        "print(f\"Mean Opponent Elixir (Win): {win_elixir.mean():.3f}\")\n",
        "print(f\"Mean Opponent Elixir (Loss): {loss_elixir.mean():.3f}\")\n",
        "\n",
        "if p_val < 0.05:\n",
        "    print(\"Result: Reject H0 — Opponent elixir cost significantly affects win rate.\")\n",
        "else:\n",
        "    print(\"Result: Fail to reject H0 — No significant effect detected.\")\n"
      ],
      "metadata": {
        "colab": {
          "base_uri": "https://localhost:8080/"
        },
        "id": "hcZgao1xVTgo",
        "outputId": "7bce4335-839b-4696-91cc-4512e7c096d0"
      },
      "execution_count": 10,
      "outputs": [
        {
          "output_type": "stream",
          "name": "stdout",
          "text": [
            "Hypothesis Test: Opponent's Average Elixir Cost\n",
            "t-statistic: -1.4647\n",
            "p-value: 0.1455\n",
            "Mean Opponent Elixir (Win): 3.517\n",
            "Mean Opponent Elixir (Loss): 3.647\n",
            "Result: Fail to reject H0 — No significant effect detected.\n"
          ]
        }
      ]
    }
  ]
}