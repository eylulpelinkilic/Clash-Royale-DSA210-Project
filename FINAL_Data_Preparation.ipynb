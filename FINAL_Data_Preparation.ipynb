{
  "nbformat": 4,
  "nbformat_minor": 0,
  "metadata": {
    "colab": {
      "provenance": [],
      "authorship_tag": "ABX9TyPbTpwNRo90E6yrftT0/M2q",
      "include_colab_link": true
    },
    "kernelspec": {
      "name": "python3",
      "display_name": "Python 3"
    },
    "language_info": {
      "name": "python"
    }
  },
  "cells": [
    {
      "cell_type": "markdown",
      "metadata": {
        "id": "view-in-github",
        "colab_type": "text"
      },
      "source": [
        "<a href=\"https://colab.research.google.com/github/eylulpelinkilic/Clash-Royale-DSA210-Project/blob/main/FINAL_Data_Preparation.ipynb\" target=\"_parent\"><img src=\"https://colab.research.google.com/assets/colab-badge.svg\" alt=\"Open In Colab\"/></a>"
      ]
    },
    {
      "cell_type": "code",
      "execution_count": null,
      "metadata": {
        "id": "TkV5fBHCZz4Y"
      },
      "outputs": [],
      "source": [
        "import pandas as pd\n",
        "df = pd.read_excel(\"matches_50_players.xlsx\")"
      ]
    },
    {
      "cell_type": "code",
      "source": [
        "print(\"Unique values in 'win' column:\", df['win'].unique())"
      ],
      "metadata": {
        "colab": {
          "base_uri": "https://localhost:8080/"
        },
        "id": "BEdcPT2mabpq",
        "outputId": "21d97290-b657-4d12-f3f2-f9f38dc7a8e6"
      },
      "execution_count": null,
      "outputs": [
        {
          "output_type": "stream",
          "name": "stdout",
          "text": [
            "Unique values in 'win' column: [1 0]\n"
          ]
        }
      ]
    },
    {
      "cell_type": "code",
      "source": [
        "nan_summary = df.isnull().sum()\n",
        "print(\"Columns with missing values:\\n\", nan_summary[nan_summary > 0])"
      ],
      "metadata": {
        "colab": {
          "base_uri": "https://localhost:8080/"
        },
        "id": "qJhmppPwae3H",
        "outputId": "6de4e330-5de4-4ded-884f-abc64073f374"
      },
      "execution_count": null,
      "outputs": [
        {
          "output_type": "stream",
          "name": "stdout",
          "text": [
            "Columns with missing values:\n",
            " Series([], dtype: int64)\n"
          ]
        }
      ]
    },
    {
      "cell_type": "code",
      "source": [
        "# 1. Necessary imports\n",
        "import pandas as pd\n",
        "import ast\n",
        "from sklearn.preprocessing import MultiLabelBinarizer\n",
        "from collections import Counter\n",
        "\n",
        "# 2. Load data\n",
        "df = pd.read_excel(\"matches_50_players.xlsx\")\n",
        "card_features_df = pd.read_excel(\"card_types_full_multi_labeled.xlsx\")\n",
        "\n",
        "# 3. Parse card_type correctly\n",
        "def safe_list(x):\n",
        "    if isinstance(x, list):\n",
        "        return x\n",
        "    try:\n",
        "        return ast.literal_eval(x)\n",
        "    except:\n",
        "        return []\n",
        "\n",
        "card_features_df['card_type'] = card_features_df['card_type'].apply(safe_list)\n",
        "\n",
        "# 4. Parse decks (team and opponent) correctly\n",
        "df['team_deck'] = df['team_deck'].apply(lambda x: ast.literal_eval(x) if isinstance(x, str) else x)\n",
        "df['opponent_deck'] = df['opponent_deck'].apply(lambda x: ast.literal_eval(x) if isinstance(x, str) else x)\n",
        "\n",
        "# 5. One-Hot Encoding for Cards\n",
        "mlb_team = MultiLabelBinarizer()\n",
        "team_ohe = pd.DataFrame(mlb_team.fit_transform(df['team_deck']), columns=[f\"team_has_{card}\" for card in mlb_team.classes_])\n",
        "\n",
        "mlb_opponent = MultiLabelBinarizer(classes=mlb_team.classes_)\n",
        "opponent_ohe = pd.DataFrame(mlb_opponent.fit_transform(df['opponent_deck']), columns=[f\"opponent_has_{card}\" for card in mlb_team.classes_])\n",
        "\n",
        "team_ohe.index = df.index\n",
        "opponent_ohe.index = df.index\n",
        "\n",
        "df = pd.concat([df, team_ohe, opponent_ohe], axis=1)\n",
        "\n",
        "# 6. Create dictionaries for card properties\n",
        "card_to_types = dict(zip(card_features_df['card_name'], card_features_df['card_type']))\n",
        "card_to_elixir = dict(zip(card_features_df['card_name'], card_features_df['elixir']))\n",
        "\n",
        "# 7. Extract all unique types\n",
        "all_types = set()\n",
        "for types in card_features_df['card_type']:\n",
        "    all_types.update(types)\n",
        "\n",
        "# 8. Feature extraction function\n",
        "def extract_deck_features(deck):\n",
        "    type_counter = Counter()\n",
        "    elixir_total = 0\n",
        "    n_cards = len(deck)\n",
        "\n",
        "    for card in deck:\n",
        "        types = card_to_types.get(card, [])\n",
        "        for t in types:\n",
        "            type_counter[t] += 1\n",
        "        elixir_total += card_to_elixir.get(card, 0)\n",
        "\n",
        "    features = {f\"n_{t}\": type_counter[t] for t in all_types}\n",
        "    features[\"avg_elixir\"] = elixir_total / n_cards if n_cards > 0 else 0\n",
        "    return features\n",
        "\n",
        "# 9. Apply feature extraction\n",
        "team_features = df['team_deck'].apply(extract_deck_features).apply(pd.Series)\n",
        "opponent_features = df['opponent_deck'].apply(extract_deck_features).apply(pd.Series)\n",
        "\n",
        "# 10. Remove duplicate columns\n",
        "team_features = team_features.loc[:, ~team_features.columns.duplicated()]\n",
        "opponent_features = opponent_features.loc[:, ~opponent_features.columns.duplicated()]\n",
        "\n",
        "# 11. Prefix columns\n",
        "team_features = team_features.add_prefix('team_')\n",
        "opponent_features = opponent_features.add_prefix('opponent_')\n",
        "\n",
        "# 12. Merge\n",
        "df = pd.concat([df, team_features, opponent_features], axis=1)\n",
        "\n",
        "# 13. Calculate type differences\n",
        "valid_types = []\n",
        "for t in all_types:\n",
        "    team_col = f'team_n_{t}'\n",
        "    opponent_col = f'opponent_n_{t}'\n",
        "    if team_col in df.columns and opponent_col in df.columns:\n",
        "        valid_types.append(t)\n",
        "\n",
        "for t in valid_types:\n",
        "    team_col = f'team_n_{t}'\n",
        "    opponent_col = f'opponent_n_{t}'\n",
        "    df[f'diff_n_{t}'] = df[team_col] - df[opponent_col]\n",
        "\n",
        "# Drop duplicate elixir columns (keep only the first occurrence)\n",
        "cols_to_drop = [col for col in df.columns if (col.startswith('team_avg_elixir') or col.startswith('opponent_avg_elixir')) and ('.' in col)]\n",
        "\n",
        "df = df.drop(columns=cols_to_drop)\n",
        "\n",
        "df.to_excel(\"without_diff_avg_elixir.xlsx\", index=False)\n",
        "from google.colab import files\n",
        "files.download(\"without_diff_avg_elixir.xlsx\")\n"
      ],
      "metadata": {
        "colab": {
          "base_uri": "https://localhost:8080/",
          "height": 17
        },
        "id": "0-XYvhpN-6h4",
        "outputId": "bbc12375-5392-4928-9e28-60fd4a88d8a0"
      },
      "execution_count": null,
      "outputs": [
        {
          "output_type": "display_data",
          "data": {
            "text/plain": [
              "<IPython.core.display.Javascript object>"
            ],
            "application/javascript": [
              "\n",
              "    async function download(id, filename, size) {\n",
              "      if (!google.colab.kernel.accessAllowed) {\n",
              "        return;\n",
              "      }\n",
              "      const div = document.createElement('div');\n",
              "      const label = document.createElement('label');\n",
              "      label.textContent = `Downloading \"${filename}\": `;\n",
              "      div.appendChild(label);\n",
              "      const progress = document.createElement('progress');\n",
              "      progress.max = size;\n",
              "      div.appendChild(progress);\n",
              "      document.body.appendChild(div);\n",
              "\n",
              "      const buffers = [];\n",
              "      let downloaded = 0;\n",
              "\n",
              "      const channel = await google.colab.kernel.comms.open(id);\n",
              "      // Send a message to notify the kernel that we're ready.\n",
              "      channel.send({})\n",
              "\n",
              "      for await (const message of channel.messages) {\n",
              "        // Send a message to notify the kernel that we're ready.\n",
              "        channel.send({})\n",
              "        if (message.buffers) {\n",
              "          for (const buffer of message.buffers) {\n",
              "            buffers.push(buffer);\n",
              "            downloaded += buffer.byteLength;\n",
              "            progress.value = downloaded;\n",
              "          }\n",
              "        }\n",
              "      }\n",
              "      const blob = new Blob(buffers, {type: 'application/binary'});\n",
              "      const a = document.createElement('a');\n",
              "      a.href = window.URL.createObjectURL(blob);\n",
              "      a.download = filename;\n",
              "      div.appendChild(a);\n",
              "      a.click();\n",
              "      div.remove();\n",
              "    }\n",
              "  "
            ]
          },
          "metadata": {}
        },
        {
          "output_type": "display_data",
          "data": {
            "text/plain": [
              "<IPython.core.display.Javascript object>"
            ],
            "application/javascript": [
              "download(\"download_f4acdabd-5f6b-4ea7-91ae-4618723caab3\", \"without_diff_avg_elixir.xlsx\", 1639157)"
            ]
          },
          "metadata": {}
        }
      ]
    },
    {
      "cell_type": "code",
      "source": [
        "df = pd.read_excel(\"without_diff_avg_elixir.xlsx\")\n",
        "df['diff_avg_elixir'] = df['team_avg_elixir'] - df['opponent_avg_elixir']\n",
        "df.to_excel(\"matches_50_players_prepared.xlsx\", index=False)\n",
        "from google.colab import files\n",
        "files.download(\"matches_50_players_prepared.xlsx\")"
      ],
      "metadata": {
        "colab": {
          "base_uri": "https://localhost:8080/",
          "height": 34
        },
        "id": "p2W9kxnbErfa",
        "outputId": "d9b9b19c-ad9b-4666-8c5b-b8f5b4443d70"
      },
      "execution_count": null,
      "outputs": [
        {
          "output_type": "display_data",
          "data": {
            "text/plain": [
              "<IPython.core.display.Javascript object>"
            ],
            "application/javascript": [
              "\n",
              "    async function download(id, filename, size) {\n",
              "      if (!google.colab.kernel.accessAllowed) {\n",
              "        return;\n",
              "      }\n",
              "      const div = document.createElement('div');\n",
              "      const label = document.createElement('label');\n",
              "      label.textContent = `Downloading \"${filename}\": `;\n",
              "      div.appendChild(label);\n",
              "      const progress = document.createElement('progress');\n",
              "      progress.max = size;\n",
              "      div.appendChild(progress);\n",
              "      document.body.appendChild(div);\n",
              "\n",
              "      const buffers = [];\n",
              "      let downloaded = 0;\n",
              "\n",
              "      const channel = await google.colab.kernel.comms.open(id);\n",
              "      // Send a message to notify the kernel that we're ready.\n",
              "      channel.send({})\n",
              "\n",
              "      for await (const message of channel.messages) {\n",
              "        // Send a message to notify the kernel that we're ready.\n",
              "        channel.send({})\n",
              "        if (message.buffers) {\n",
              "          for (const buffer of message.buffers) {\n",
              "            buffers.push(buffer);\n",
              "            downloaded += buffer.byteLength;\n",
              "            progress.value = downloaded;\n",
              "          }\n",
              "        }\n",
              "      }\n",
              "      const blob = new Blob(buffers, {type: 'application/binary'});\n",
              "      const a = document.createElement('a');\n",
              "      a.href = window.URL.createObjectURL(blob);\n",
              "      a.download = filename;\n",
              "      div.appendChild(a);\n",
              "      a.click();\n",
              "      div.remove();\n",
              "    }\n",
              "  "
            ]
          },
          "metadata": {}
        },
        {
          "output_type": "display_data",
          "data": {
            "text/plain": [
              "<IPython.core.display.Javascript object>"
            ],
            "application/javascript": [
              "download(\"download_d41e8b08-a0c6-4cda-8f4e-733f20fefa5a\", \"matches_50_players_prepared.xlsx\", 1652226)"
            ]
          },
          "metadata": {}
        }
      ]
    },
    {
      "cell_type": "code",
      "source": [
        "df.to_excel(\"matches_50_players_prepared.xlsx\", index=False)\n",
        "from google.colab import files\n",
        "files.download(\"matches_50_players_prepared.xlsx\")\n"
      ],
      "metadata": {
        "colab": {
          "base_uri": "https://localhost:8080/",
          "height": 17
        },
        "id": "Z2o8lDfva91Y",
        "outputId": "0b1a8be9-6813-42c7-ea71-7928a201fc9d"
      },
      "execution_count": null,
      "outputs": [
        {
          "output_type": "display_data",
          "data": {
            "text/plain": [
              "<IPython.core.display.Javascript object>"
            ],
            "application/javascript": [
              "\n",
              "    async function download(id, filename, size) {\n",
              "      if (!google.colab.kernel.accessAllowed) {\n",
              "        return;\n",
              "      }\n",
              "      const div = document.createElement('div');\n",
              "      const label = document.createElement('label');\n",
              "      label.textContent = `Downloading \"${filename}\": `;\n",
              "      div.appendChild(label);\n",
              "      const progress = document.createElement('progress');\n",
              "      progress.max = size;\n",
              "      div.appendChild(progress);\n",
              "      document.body.appendChild(div);\n",
              "\n",
              "      const buffers = [];\n",
              "      let downloaded = 0;\n",
              "\n",
              "      const channel = await google.colab.kernel.comms.open(id);\n",
              "      // Send a message to notify the kernel that we're ready.\n",
              "      channel.send({})\n",
              "\n",
              "      for await (const message of channel.messages) {\n",
              "        // Send a message to notify the kernel that we're ready.\n",
              "        channel.send({})\n",
              "        if (message.buffers) {\n",
              "          for (const buffer of message.buffers) {\n",
              "            buffers.push(buffer);\n",
              "            downloaded += buffer.byteLength;\n",
              "            progress.value = downloaded;\n",
              "          }\n",
              "        }\n",
              "      }\n",
              "      const blob = new Blob(buffers, {type: 'application/binary'});\n",
              "      const a = document.createElement('a');\n",
              "      a.href = window.URL.createObjectURL(blob);\n",
              "      a.download = filename;\n",
              "      div.appendChild(a);\n",
              "      a.click();\n",
              "      div.remove();\n",
              "    }\n",
              "  "
            ]
          },
          "metadata": {}
        },
        {
          "output_type": "display_data",
          "data": {
            "text/plain": [
              "<IPython.core.display.Javascript object>"
            ],
            "application/javascript": [
              "download(\"download_7b6860ff-9742-4fde-b334-19aba4193331\", \"matches_50_players_prepared.xlsx\", 125150)"
            ]
          },
          "metadata": {}
        }
      ]
    }
  ]
}